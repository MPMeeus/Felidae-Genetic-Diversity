{
 "cells": [
  {
   "cell_type": "markdown",
   "id": "21a50239",
   "metadata": {},
   "source": [
    "# vcf_heterozygosity.ipynb"
   ]
  },
  {
   "cell_type": "markdown",
   "id": "5bf3785d",
   "metadata": {},
   "source": [
    "Script to calculate heterozygosity from output of Svardal Lab VCF pipeline."
   ]
  },
  {
   "cell_type": "markdown",
   "id": "8dcd1cea",
   "metadata": {},
   "source": [
    "## Input and variables"
   ]
  },
  {
   "cell_type": "code",
   "execution_count": 2,
   "id": "545603c6",
   "metadata": {},
   "outputs": [],
   "source": [
    "# Import packages\n",
    "import numpy as np\n",
    "import pandas as pd\n",
    "import pysam"
   ]
  },
  {
   "cell_type": "code",
   "execution_count": 9,
   "id": "63228fcf",
   "metadata": {},
   "outputs": [],
   "source": [
    "# Define variables\n",
    "path = \"/scratch/antwerpen/grp/asvardal/projects/felids/data/AlignmentVariantCalling/data/Fca126/Felidhet/\"\n",
    "#path = \"/scratch/antwerpen/grp/asvardal/projects/felids/data/AlignmentVariantCalling/data/Pti1/Felidhet/\"\n",
    "vcf_fn = \"Felidhet.no_if1.sf_stringent1.pass.snps.biallelic.all_chrom.vcf.gz\"\n",
    "vcf_in = pysam.VariantFile(path + vcf_fn)\n",
    "\n",
    "samples = [s for s in vcf_in.header.samples]\n",
    "autosomes = [\"CM0314\" + str(i) + \".1\" for i in range(12,30)] #Fca126\n",
    "#autosomes = [\"CM0314\" + str(i) + \".1\" for i in range(31,49)] #Pti1\n",
    "\n",
    "bed_fn = [\"Felidhet.no_if1.sf_stringent1.\" + chr + \".accessible.bed.gz\" for chr in autosomes]\n",
    "\n",
    "output_fn = \"Felidhet.no_if1.sf_stringent1.pass.snps.biallelic.autosomal_heterozygosity.tsv\""
   ]
  },
  {
   "cell_type": "markdown",
   "id": "7696f60a",
   "metadata": {},
   "source": [
    "## Size of the accessible genome"
   ]
  },
  {
   "cell_type": "code",
   "execution_count": 10,
   "id": "3145101b",
   "metadata": {},
   "outputs": [],
   "source": [
    "%%capture\n",
    "\n",
    "chr_acc_size_list = []\n",
    "acc_size = 0\n",
    "for bed in bed_fn:\n",
    "    %env BED={path+bed}\n",
    "    chr_acc_size = !zcat $BED | awk 'BEGIN{tot=0} {tot=tot+$3-$2} END{print tot}'\n",
    "    chr_acc_size_list.append(int(chr_acc_size[0]))\n",
    "    acc_size = sum(chr_acc_size_list)\n",
    "    \n",
    "tot_size = 0\n",
    "for bed in bed_fn:\n",
    "    %env BED={path+bed}\n",
    "    chr_tot_size = !zcat $BED | tail -n 1 | awk '{print $3}'\n",
    "    tot_size += int(chr_tot_size[0])"
   ]
  },
  {
   "cell_type": "code",
   "execution_count": 11,
   "id": "e837286d",
   "metadata": {},
   "outputs": [
    {
     "name": "stdout",
     "output_type": "stream",
     "text": [
      "Size of the accessible part of the autosomal genome: 1,778,819,369 bp\n",
      "Size of all autosomes combined:                      2,287,901,109 bp\n",
      "Accessible fraction of the autosomal genome:         78%\n"
     ]
    }
   ],
   "source": [
    "print(\"Size of the accessible part of the autosomal genome: \" + f'{acc_size:,}' + \" bp\")\n",
    "print(\"Size of all autosomes combined:                      \" + f'{tot_size:,}' + \" bp\")\n",
    "print(\"Accessible fraction of the autosomal genome:         \" + '{:.0%}'.format(acc_size/tot_size))"
   ]
  },
  {
   "cell_type": "markdown",
   "id": "fc385f70",
   "metadata": {},
   "source": [
    "## Calculate heterozygosity"
   ]
  },
  {
   "cell_type": "code",
   "execution_count": 12,
   "id": "87dda54d",
   "metadata": {},
   "outputs": [
    {
     "name": "stdout",
     "output_type": "stream",
     "text": [
      "Counting in CM031431.1\n",
      "Counting in CM031432.1\n",
      "Counting in CM031433.1\n",
      "Counting in CM031434.1\n",
      "Counting in CM031435.1\n",
      "Counting in CM031436.1\n",
      "Counting in CM031437.1\n",
      "Counting in CM031438.1\n",
      "Counting in CM031439.1\n",
      "Counting in CM031440.1\n",
      "Counting in CM031441.1\n",
      "Counting in CM031442.1\n",
      "Counting in CM031443.1\n",
      "Counting in CM031444.1\n",
      "Counting in CM031445.1\n",
      "Counting in CM031446.1\n",
      "Counting in CM031447.1\n",
      "Counting in CM031448.1\n"
     ]
    }
   ],
   "source": [
    "# Initiate empty lists to hold libraries\n",
    "hets_list = []\n",
    "homs_list = []\n",
    "missing_list = []\n",
    "\n",
    "# For each autosome, create libraries with the number of het, hom and missing sites per sample \n",
    "for chr in autosomes:\n",
    "    for k, rec in enumerate(vcf_in.fetch(chr)):\n",
    "        if not k:\n",
    "            print(\"Counting in \" + rec.contig)\n",
    "            hets = {s:0 for s in samples}\n",
    "            homs = {s:0 for s in samples}\n",
    "            missing = {s:0 for s in samples}\n",
    "        for name, vrec in rec.samples.iteritems():\n",
    "            a1, a2 = vrec.alleles\n",
    "            if None in [a1, a2]:\n",
    "                missing[name] += 1\n",
    "            elif a1==a2:\n",
    "                homs[name] += 1\n",
    "            elif a1!=a2:\n",
    "                hets[name] += 1\n",
    "            else:\n",
    "                print(\"Alleles:\",a1, a2)\n",
    "                raise Exception(\"Whats going on here???\")\n",
    "\n",
    "    # Add autosome-level libraries to lists\n",
    "    hets_list.append(hets)\n",
    "    homs_list.append(homs)\n",
    "    missing_list.append(missing)"
   ]
  },
  {
   "cell_type": "code",
   "execution_count": 46,
   "id": "adaa30c5",
   "metadata": {},
   "outputs": [],
   "source": [
    "# Initiate empty lists to hold target statistics\n",
    "weighted_av = []\n",
    "weighted_std = []\n",
    "minimum = []\n",
    "maximum = []\n",
    "\n",
    "# For each sample and autosome, transform absolute counts to relative heterozygosity\n",
    "for s in samples:\n",
    "    estimates = []\n",
    "\n",
    "    for i in range(len(autosomes)):\n",
    "        estimates.append((hets_list[i][s] + missing_list[i][s]\n",
    "              * (hets_list[i][s] / (hets_list[i][s] + homs_list[i][s])))\n",
    "              / chr_acc_size_list[i])\n",
    "\n",
    "    # Calculate weighted average, weighted standard deviation, min and max from autosomal estimates\n",
    "    weighted_av.append(np.average(estimates, weights=chr_acc_size_list))\n",
    "    weighted_std.append(np.sqrt(np.cov(estimates, aweights=chr_acc_size_list)))\n",
    "    minimum.append(min(estimates))\n",
    "    maximum.append(max(estimates))\n",
    "\n",
    "# Store lists as dataframe\n",
    "df = pd.DataFrame(list(zip(samples, weighted_av, weighted_std, minimum, maximum)), \n",
    "                  columns=['unique_id', 'heterozygosity', 'std', 'min', 'max'])"
   ]
  },
  {
   "cell_type": "markdown",
   "id": "29198abf",
   "metadata": {},
   "source": [
    "## Write to file"
   ]
  },
  {
   "cell_type": "code",
   "execution_count": 61,
   "id": "28e8c661",
   "metadata": {},
   "outputs": [],
   "source": [
    "# Write dataframe to file\n",
    "with open(path + output_fn, 'w') as file:\n",
    "    df.to_csv(file, sep='\\t', index = False)"
   ]
  }
 ],
 "metadata": {
  "kernelspec": {
   "display_name": "Python 3 (ipykernel)",
   "language": "python",
   "name": "python3"
  },
  "language_info": {
   "codemirror_mode": {
    "name": "ipython",
    "version": 3
   },
   "file_extension": ".py",
   "mimetype": "text/x-python",
   "name": "python",
   "nbconvert_exporter": "python",
   "pygments_lexer": "ipython3",
   "version": "3.10.14"
  }
 },
 "nbformat": 4,
 "nbformat_minor": 5
}
